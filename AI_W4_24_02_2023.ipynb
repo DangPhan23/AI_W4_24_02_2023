{
  "nbformat": 4,
  "nbformat_minor": 0,
  "metadata": {
    "colab": {
      "provenance": []
    },
    "kernelspec": {
      "name": "python3",
      "display_name": "Python 3"
    },
    "language_info": {
      "name": "python"
    }
  },
  "cells": [
    {
      "cell_type": "code",
      "execution_count": 1,
      "metadata": {
        "id": "2tp74sHvCdgj",
        "colab": {
          "base_uri": "https://localhost:8080/"
        },
        "outputId": "87d2cbe0-2232-4726-f059-80e0bd9b6795"
      },
      "outputs": [
        {
          "output_type": "stream",
          "name": "stdout",
          "text": [
            "Looking in indexes: https://pypi.org/simple, https://us-python.pkg.dev/colab-wheels/public/simple/\n",
            "Collecting scikit-fuzzy\n",
            "  Downloading scikit-fuzzy-0.4.2.tar.gz (993 kB)\n",
            "\u001b[2K     \u001b[90m━━━━━━━━━━━━━━━━━━━━━━━━━━━━━━━━━━━━━━\u001b[0m \u001b[32m994.0/994.0 KB\u001b[0m \u001b[31m14.0 MB/s\u001b[0m eta \u001b[36m0:00:00\u001b[0m\n",
            "\u001b[?25h  Preparing metadata (setup.py) ... \u001b[?25l\u001b[?25hdone\n",
            "Requirement already satisfied: numpy>=1.6.0 in /usr/local/lib/python3.8/dist-packages (from scikit-fuzzy) (1.22.4)\n",
            "Requirement already satisfied: scipy>=0.9.0 in /usr/local/lib/python3.8/dist-packages (from scikit-fuzzy) (1.7.3)\n",
            "Requirement already satisfied: networkx>=1.9.0 in /usr/local/lib/python3.8/dist-packages (from scikit-fuzzy) (3.0)\n",
            "Building wheels for collected packages: scikit-fuzzy\n",
            "  Building wheel for scikit-fuzzy (setup.py) ... \u001b[?25l\u001b[?25hdone\n",
            "  Created wheel for scikit-fuzzy: filename=scikit_fuzzy-0.4.2-py3-none-any.whl size=894088 sha256=27f40666206c4c6f67a92b508d0c9cf5f27e1c7f71fb077312dbf08a1ceae1a3\n",
            "  Stored in directory: /root/.cache/pip/wheels/2c/04/80/7eefb1a2de7d36aefd06432fab2a1486caf0a0596a7067391a\n",
            "Successfully built scikit-fuzzy\n",
            "Installing collected packages: scikit-fuzzy\n",
            "Successfully installed scikit-fuzzy-0.4.2\n"
          ]
        }
      ],
      "source": [
        "pip install scikit-fuzzy"
      ]
    },
    {
      "cell_type": "code",
      "source": [
        "import numpy as np\n",
        "import skfuzzy as fuzz\n",
        "import matplotlib.pyplot as plt\n",
        "x = np.arange(30,81,1)\n",
        "slow = fuzz.trapmf(x,[30,30,35,50])\n",
        "medium = fuzz.trapmf(x,[30,40,50,70])\n",
        "fast = fuzz.trapmf(x,[50,60,70,80])\n",
        "plt.figure()\n",
        "plt.plot(x,slow,'x',linewidth=1.5)\n",
        "plt.plot(x,medium,'o',linewidth=1.5,label='Medium')\n",
        "plt.plot(x,fast,'v',linewidth=1.5,label='Fast')"
      ],
      "metadata": {
        "id": "aVknb3gQyiNe"
      },
      "execution_count": null,
      "outputs": []
    },
    {
      "cell_type": "code",
      "source": [
        "import numpy as np\n",
        "import skfuzzy as fuzz\n",
        "import matplotlib.pyplot as plt\n",
        "x = np.arange(30,81,1)\n",
        "slow = fuzz.trimf(x,[30,30,50])\n",
        "medium = fuzz.trimf(x,[30,50,70])\n",
        "medium_fast = fuzz.trimf(x,[50,65,80])\n",
        "full_speed = fuzz.trimf(x,[60,80,80])\n",
        "plt.figure()\n",
        "plt.plot(x,slow,'#8c564b',linewidth = 1.5, label = 'slow' )\n",
        "plt.plot(x,medium,'b',linewidth = 1.5, label = 'medium' )\n",
        "plt.plot(x,medium_fast,'g',linewidth = 1.5, label = 'medium_fast' )\n",
        "plt.plot(x,full_speed,'y',linewidth = 1.5, label = 'full_speed' )"
      ],
      "metadata": {
        "id": "4GqEC6heDA3i"
      },
      "execution_count": null,
      "outputs": []
    },
    {
      "cell_type": "code",
      "source": [
        "import numpy as np \n",
        "import skfuzzy as fuzz\n",
        "import matplotlib.pyplot as plt\n",
        "from skfuzzy import control as ctrl \n",
        "x = np.arange(30,81,1)\n",
        "slow3 = fuzz.gaussmf(x,30,5)\n",
        "medium3 = fuzz.gaussmf(x,50,5)\n",
        "medium_fast3 = fuzz.gaussmf(x,65,5)\n",
        "full_speed3 = fuzz.gaussmf(x,80,5)\n",
        "plt.figure()\n",
        "plt.plot(x,slow3,'#8c564b',linewidth = 1.5, label = 'slow3' )\n",
        "plt.plot(x,medium3,'b',linewidth = 1.5, label = 'medium3' )\n",
        "plt.plot(x,medium_fast3,'g',linewidth = 1.5, label = 'medium_fast3' )\n",
        "plt.plot(x,full_speed3,'y',linewidth = 1.5, label = 'full_speed3' )"
      ],
      "metadata": {
        "id": "0QWm6AyfLyvj"
      },
      "execution_count": null,
      "outputs": []
    },
    {
      "cell_type": "code",
      "source": [
        "# tiền tip\n",
        "import numpy as np\n",
        "import skfuzzy as fuzz\n",
        "import matplotlib.pyplot as plt\n",
        "from skfuzzy import control as ctrl\n",
        "food=ctrl.Antecedent(np.arange(0,11,1),'Food')\n",
        "service=ctrl.Antecedent(np.arange(0,11,1),'Service')\n",
        "tip=ctrl.Consequent(np.arange(0,11,1),'Tip')\n",
        "\n",
        "food['poor']=fuzz.trimf(food.universe,[0,0,5])\n",
        "food['average']=fuzz.trimf(food.universe,[0,5,10])\n",
        "food['good']=fuzz.trimf(food.universe,[5,10,10])\n",
        "\n",
        "service['poor']=fuzz.trimf(service.universe,[0,0,5])\n",
        "service['average']=fuzz.trimf(service.universe,[0,5,10])\n",
        "service['good']=fuzz.trimf(service.universe,[5,10,10])\n",
        "\n",
        "tip['less']=fuzz.trimf(tip.universe,[0,0,5])\n",
        "tip['normal']=fuzz.trimf(tip.universe,[0,5,10])\n",
        "tip['much']=fuzz.trimf(tip.universe,[5,10,10])\n",
        "\n",
        "rule1=ctrl.Rule(food['poor']&service['poor'],tip['less'])\n",
        "rule2=ctrl.Rule(food['poor']&service['average'], tip['less'])\n",
        "rule3=ctrl.Rule(food['poor']&service['good'],tip['normal'])\n",
        "rule4=ctrl.Rule(food['average']&service['poor'],tip['less'])\n",
        "rule5=ctrl.Rule(food['average']&service['average'],tip['normal'])\n",
        "rule6=ctrl.Rule(food['average']&service['good'],tip['much'])\n",
        "rule7=ctrl.Rule(food['good']&service['poor'],tip['less'])\n",
        "rule8=ctrl.Rule(food['good']&service['average'],tip['normal'])\n",
        "rule9=ctrl.Rule(food['good']&service['good'],tip['much'])\n",
        "\n",
        "tipping_ctrl=ctrl.ControlSystem([rule1,rule2,rule3,rule4,rule5,rule6,rule7,rule8,rule9])\n",
        "tipping=ctrl.ControlSystemSimulation(tipping_ctrl)\n",
        "tipping.input['Food']=9.0\n",
        "tipping.input['Service']=5.0\n",
        "tipping.compute()\n",
        "print(tipping.output['Tip'])\n",
        "tip.view(sim=tipping)"
      ],
      "metadata": {
        "id": "8mzGF7_4QTxD"
      },
      "execution_count": null,
      "outputs": []
    },
    {
      "cell_type": "code",
      "source": [
        "food.view()\n",
        "food['poor'].view()\n",
        "service.view()\n",
        "tip.view()"
      ],
      "metadata": {
        "id": "9DKQvhV3TVtj"
      },
      "execution_count": null,
      "outputs": []
    },
    {
      "cell_type": "code",
      "source": [],
      "metadata": {
        "id": "GtPe5SiTaht0"
      },
      "execution_count": null,
      "outputs": []
    },
    {
      "cell_type": "code",
      "source": [
        "#nồi cơm điện\n",
        "import numpy as np\n",
        "import skfuzzy as fuzz\n",
        "import matplotlib.pyplot as plt\n",
        "from skfuzzy import control as ctrl\n",
        "time=ctrl.Antecedent(np.arange(0,11,1),'Time')\n",
        "rice=ctrl.Antecedent(np.arange(0,11,1),'Rice')\n",
        "power=ctrl.Consequent(np.arange(0,11,1),'Power')\n",
        "\n",
        "time['veryfast']=fuzz.trimf(time.universe,[0,0,5])\n",
        "time['fast']=fuzz.trimf(time.universe,[0,5,10])\n",
        "time['balance']=fuzz.trimf(time.universe,[5,10,10])\n",
        "time['slow']=fuzz.trimf(time.universe,[5,10,10])\n",
        "time['veryslow']=fuzz.trimf(time.universe,[5,10,10])\n",
        "\n",
        "rice['verymuch']=fuzz.trimf(rice.universe,[0,0,5])\n",
        "rice['much']=fuzz.trimf(rice.universe,[0,5,10])\n",
        "rice['normal']=fuzz.trimf(rice.universe,[5,10,10])\n",
        "rice['less']=fuzz.trimf(rice.universe,[5,10,10])\n",
        "rice['veryless']=fuzz.trimf(rice.universe,[5,10,10])\n",
        "\n",
        "power['veryfast']=fuzz.trimf(power.universe,[0,0,5])\n",
        "power['fast']=fuzz.trimf(power.universe,[0,5,10])\n",
        "power['balance']=fuzz.trimf(power.universe,[5,10,10])\n",
        "power['less']=fuzz.trimf(power.universe,[5,10,10])\n",
        "power['veryless']=fuzz.trimf(power.universe,[5,10,10])\n",
        "\n",
        "rule1=ctrl.Rule(time['veryfast']&rice['verymuch'],power['veryless'])\n",
        "rule2=ctrl.Rule(time['veryfast']&rice['much'],power['less'])\n",
        "rule3=ctrl.Rule(time['veryfast']&rice['normal'],power['balance'])\n",
        "rule4=ctrl.Rule(time['veryfast']&rice['less'],power['fast'])\n",
        "rule5=ctrl.Rule(time['veryfast']&rice['veryless'],power['veryfast'])\n",
        "\n",
        "rule6=ctrl.Rule(time['fast']&rice['verymuch'],power['veryless'])\n",
        "rule7=ctrl.Rule(time['fast']&rice['much'],power['less'])\n",
        "rule8=ctrl.Rule(time['fast']&rice['normal'],power['balance'])\n",
        "rule9=ctrl.Rule(time['fast']&rice['less'],power['fast'])\n",
        "rule10=ctrl.Rule(time['fast']&rice['veryless'],power['veryfast'])\n",
        "\n",
        "rule11=ctrl.Rule(time['balance']&rice['verymuch'],power['veryless'])\n",
        "rule12=ctrl.Rule(time['balance']&rice['much'],power['less'])\n",
        "rule13=ctrl.Rule(time['balance']&rice['normal'],power['balance'])\n",
        "rule14=ctrl.Rule(time['balance']&rice['less'],power['fast'])\n",
        "rule15=ctrl.Rule(time['balance']&rice['veryless'],power['veryfast'])\n",
        "\n",
        "rule16=ctrl.Rule(time['slow']&rice['verymuch'],power['veryless'])\n",
        "rule17=ctrl.Rule(time['slow']&rice['much'],power['veryless'])\n",
        "rule18=ctrl.Rule(time['slow']&rice['normal'],power['less'])\n",
        "rule19=ctrl.Rule(time['slow']&rice['less'],power['balance'])\n",
        "rule20=ctrl.Rule(time['slow']&rice['veryless'],power['veryfast'])\n",
        "\n",
        "rule21=ctrl.Rule(time['veryslow']&rice['verymuch'],power['veryfast'])\n",
        "rule22=ctrl.Rule(time['veryslow']&rice['much'],power['veryfast'])\n",
        "rule23=ctrl.Rule(time['veryslow']&rice['normal'],power['fast'])\n",
        "rule24=ctrl.Rule(time['veryslow']&rice['less'],power['less'])\n",
        "rule25=ctrl.Rule(time['veryslow']&rice['veryless'],power['less'])\n",
        "\n",
        "powering_ctrl=ctrl.ControlSystem([rule1,rule2,rule3,rule4,rule5,rule6,rule7,rule8,rule9,rule10,rule11,rule12,rule13,rule14,rule15,rule16,rule17,rule18,rule19,rule20,rule21,rule22,rule23,rule24,rule25])\n",
        "powering=ctrl.ControlSystemSimulation(powering_ctrl)\n",
        "powering.input['Time']=150\n",
        "powering.input['Rice']=1400\n",
        "powering.compute()\n",
        "print(powering.output['Power'])\n",
        "power.view(sim=powering)"
      ],
      "metadata": {
        "id": "dlpLtME9ahj0"
      },
      "execution_count": null,
      "outputs": []
    }
  ]
}